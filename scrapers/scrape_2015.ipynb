{
 "cells": [
  {
   "cell_type": "code",
   "execution_count": 1,
   "metadata": {},
   "outputs": [],
   "source": [
    "import requests\n",
    "from bs4 import BeautifulSoup\n",
    "import time\n",
    "from selenium import webdriver\n",
    "from selenium.webdriver.common.by import By\n",
    "import chromedriver_binary\n",
    "import pandas as pd\n",
    "import pprint\n",
    "from selenium.webdriver.common.keys import Keys\n",
    "from selenium.webdriver.common.action_chains import ActionChains"
   ]
  },
  {
   "cell_type": "code",
   "execution_count": 15,
   "metadata": {},
   "outputs": [],
   "source": [
    "years = ['2015']\n",
    "years.reverse()\n",
    "berlin_url = 'https://www.bmw-berlin-marathon.com/en/impressions/statistics-and-history/results-archive/'\n",
    "driver = webdriver.Chrome()\n",
    "driver.get(berlin_url)\n",
    "#accept cookies\n",
    "time.sleep(6)\n",
    "driver.find_element_by_xpath('//button[@data-cookiefirst-action=\"accept\"]').click()\n",
    "time.sleep(1)\n",
    "for year in years:\n",
    "    #get specific year\n",
    "    driver.find_element_by_xpath('//select[@class=\"events border-input\"]').click()\n",
    "    time.sleep(1)\n",
    "    driver.find_element_by_xpath(f\"//option[contains(text(),{year})]\").click()\n",
    "    time.sleep(2)\n",
    "    master_results = []\n",
    "    #get number of pages\n",
    "    soup = BeautifulSoup(driver.page_source, 'html.parser')\n",
    "    pages = soup.find_all('a',{\"class\": \"page-link\"})\n",
    "    pages_text = [res.getText(',') for res in pages]\n",
    "    #open all the splits\n",
    "    for i in range(int(pages_text[7])-2):\n",
    "        time.sleep(1)\n",
    "        html = driver.find_element_by_tag_name('html')\n",
    "        html.send_keys(Keys.PAGE_UP)\n",
    "        time.sleep(.01)\n",
    "        html.send_keys(Keys.PAGE_UP)\n",
    "        \n",
    "        btns = driver.find_elements(By.XPATH, f'//td[@class= \" details-control\"]')\n",
    "        time.sleep(1)\n",
    "        for button in btns:\n",
    "            button.click()\n",
    "        soup = BeautifulSoup(driver.page_source, 'html.parser')\n",
    "        #scrape current page\n",
    "        results = soup.find_all('tr')\n",
    "        results_text = [res.getText(',') for res in results]\n",
    "        accum = 0\n",
    "        for i in range(21):\n",
    "            master_results.append([results_text[accum] + ',' + results_text[accum+1]])\n",
    "            accum += 2\n",
    "\n",
    "        time.sleep(.2)\n",
    "\n",
    "        #next page\n",
    "        \n",
    "        next = driver.find_element_by_xpath(\"//*[contains(text(), 'Next')]\")\n",
    "        actions = ActionChains(driver)\n",
    "        actions.move_to_element(next).perform()\n",
    "        next.click()\n",
    "    #format data\n",
    "    master_results_flat = [x for x in master_results]\n",
    "    for i in range(len(master_results_flat)):\n",
    "        master_results_flat[i] = master_results_flat[i][0].split(',')\n",
    "\n",
    "    for i in range(20):\n",
    "        for i in master_results_flat:\n",
    "            if len(i) == 12:\n",
    "                master_results_flat.remove(i)\n",
    "            elif len(i) == 28:\n",
    "                del i[5]\n",
    "            elif len(i) != 27:\n",
    "                master_results_flat.remove(i)\n",
    "\n",
    "    #save to dataframe and csv\n",
    "    df = pd.DataFrame(master_results_flat, columns = ['Overall_Place', 'First_Name','Last_Name', 'Country','SN', 'Sex','Net_time','Gross_time','split_times', '5k', '5k_split','10k', '10k_split','15k', '15k_split','20k', '20k_split','HM', 'HM_split','25k', '25k_split','30k', '30k_split','35k', '35k_split','40k', '40k_split'])\n",
    "    \n",
    "    df.to_csv(f'../data/berlin_scrape_results/berlin_{year}.csv', header=True, index=False)\n",
    "#print(master_results)\n",
    "\n",
    "\n",
    "time.sleep(5)\n",
    "driver.close()\n",
    "driver.quit()"
   ]
  },
  {
   "cell_type": "code",
   "execution_count": 13,
   "metadata": {},
   "outputs": [
    {
     "data": {
      "text/plain": [
       "20"
      ]
     },
     "execution_count": 13,
     "metadata": {},
     "output_type": "execute_result"
    }
   ],
   "source": [
    "len(results_text)%21"
   ]
  },
  {
   "cell_type": "code",
   "execution_count": null,
   "metadata": {},
   "outputs": [],
   "source": []
  }
 ],
 "metadata": {
  "interpreter": {
   "hash": "7c2cfdd00fb3b545a6c9accbc3cc25499f2cabd11f88e1ae4e8e9d1a9e62983f"
  },
  "kernelspec": {
   "display_name": "Python 3.7.13 ('CapstoneEnv')",
   "language": "python",
   "name": "python3"
  },
  "language_info": {
   "codemirror_mode": {
    "name": "ipython",
    "version": 3
   },
   "file_extension": ".py",
   "mimetype": "text/x-python",
   "name": "python",
   "nbconvert_exporter": "python",
   "pygments_lexer": "ipython3",
   "version": "3.7.13"
  },
  "orig_nbformat": 4
 },
 "nbformat": 4,
 "nbformat_minor": 2
}
