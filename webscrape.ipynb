{
 "cells": [
  {
   "cell_type": "code",
   "execution_count": 8,
   "metadata": {},
   "outputs": [],
   "source": [
    "import requests\n",
    "from bs4 import BeautifulSoup\n",
    "import time\n",
    "from selenium import webdriver\n",
    "from selenium.webdriver.common.by import By\n",
    "import chromedriver_binary"
   ]
  },
  {
   "cell_type": "code",
   "execution_count": null,
   "metadata": {},
   "outputs": [],
   "source": [
    "URL = \"https://www.strava.com/segments/30365146\"\n",
    "page = requests.get(URL)\n",
    "\n",
    "soup = BeautifulSoup(page.content, 'html.parser')"
   ]
  },
  {
   "cell_type": "code",
   "execution_count": null,
   "metadata": {},
   "outputs": [],
   "source": [
    "boston_results = soup.find('div', id='segment-leaderboard')"
   ]
  },
  {
   "cell_type": "code",
   "execution_count": null,
   "metadata": {},
   "outputs": [
    {
     "name": "stdout",
     "output_type": "stream",
     "text": [
      "\n",
      "\n",
      "Overall Leaderboard\n",
      "\n",
      "\n",
      "\n",
      "Rank\n",
      "Name\n",
      "Pace\n",
      "Time\n",
      "\n",
      "\n",
      "\n",
      "\n",
      "1\n",
      "CJ Albertson\n",
      "3:04/km\n",
      "2:10:23\n",
      "\n",
      "\n",
      "2\n",
      "Matt McDonald\n",
      "3:05/km\n",
      "2:10:34\n",
      "\n",
      "\n",
      "3\n",
      "Trevor Hofbauer\n",
      "3:05/km\n",
      "2:10:51\n",
      "\n",
      "\n",
      "4\n",
      "Mick Iacofano\n",
      "3:06/km\n",
      "2:11:49\n",
      "\n",
      "\n",
      "5\n",
      "Colin Bennie\n",
      "3:07/km\n",
      "2:12:04\n",
      "\n",
      "\n",
      "6\n",
      "Reed Fischer\n",
      "3:09/km\n",
      "2:13:43\n",
      "\n",
      "\n",
      "7\n",
      "Mike S.\n",
      "3:09/km\n",
      "2:13:48\n",
      "\n",
      "\n",
      "8\n",
      "Jerrell Mock\n",
      "3:10/km\n",
      "2:14:10\n",
      "\n",
      "\n",
      "9\n",
      "Jonas H.\n",
      "3:10/km\n",
      "2:14:39\n",
      "\n",
      "\n",
      "10\n",
      "Nick Arciniaga\n",
      "3:15/km\n",
      "2:18:02\n",
      "\n",
      "\n",
      "\n",
      "\n",
      "\n"
     ]
    }
   ],
   "source": [
    "print(boston_results.text)"
   ]
  },
  {
   "cell_type": "code",
   "execution_count": 36,
   "metadata": {},
   "outputs": [],
   "source": []
  },
  {
   "cell_type": "code",
   "execution_count": null,
   "metadata": {},
   "outputs": [],
   "source": []
  }
 ],
 "metadata": {
  "interpreter": {
   "hash": "8236f4bed1f6d9517eff9cb0879e99c50ee481de4ac391ae07735202c8d750c9"
  },
  "kernelspec": {
   "display_name": "Python 3.8.5 ('base')",
   "language": "python",
   "name": "python3"
  },
  "language_info": {
   "codemirror_mode": {
    "name": "ipython",
    "version": 3
   },
   "file_extension": ".py",
   "mimetype": "text/x-python",
   "name": "python",
   "nbconvert_exporter": "python",
   "pygments_lexer": "ipython3",
   "version": "3.7.13"
  },
  "orig_nbformat": 4
 },
 "nbformat": 4,
 "nbformat_minor": 2
}
